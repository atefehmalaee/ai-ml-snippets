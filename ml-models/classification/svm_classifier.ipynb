"""
Support Vector Machine (SVM) classifier with RBF kernel.
"""

from sklearn.svm import SVC
from sklearn.metrics import accuracy_score, classification_report
from utils.data_preprocessing import load_and_preprocess_data

X_train, X_test, y_train, y_test = load_and_preprocess_data()

model = SVC(kernel="rbf", C=1.0, gamma="scale", probability=True)
model.fit(X_train, y_train)

y_pred = model.predict(X_test)
print("✅ SVM Accuracy:", accuracy_score(y_test, y_pred))
print(classification_report(y_test, y_pred))
